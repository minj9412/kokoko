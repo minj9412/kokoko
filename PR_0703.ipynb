{
 "cells": [
  {
   "cell_type": "markdown",
   "metadata": {},
   "source": [
    "# Exercise 105 : Reverse Order"
   ]
  },
  {
   "cell_type": "code",
   "execution_count": 67,
   "metadata": {},
   "outputs": [
    {
     "name": "stdout",
     "output_type": "stream",
     "text": [
      "고려대학교\n"
     ]
    }
   ],
   "source": [
    "userInput = list(input())"
   ]
  },
  {
   "cell_type": "code",
   "execution_count": 68,
   "metadata": {},
   "outputs": [],
   "source": [
    "userInput.insert(len(userInput),0)"
   ]
  },
  {
   "cell_type": "code",
   "execution_count": 69,
   "metadata": {},
   "outputs": [
    {
     "data": {
      "text/plain": [
       "['고', '려', '대', '학', '교', 0]"
      ]
     },
     "execution_count": 69,
     "metadata": {},
     "output_type": "execute_result"
    }
   ],
   "source": [
    "userInput"
   ]
  },
  {
   "cell_type": "code",
   "execution_count": 75,
   "metadata": {},
   "outputs": [],
   "source": [
    "exc0 = userInput[:-1]"
   ]
  },
  {
   "cell_type": "code",
   "execution_count": 76,
   "metadata": {},
   "outputs": [
    {
     "data": {
      "text/plain": [
       "['고', '려', '대', '학', '교']"
      ]
     },
     "execution_count": 76,
     "metadata": {},
     "output_type": "execute_result"
    }
   ],
   "source": [
    "exc0"
   ]
  },
  {
   "cell_type": "code",
   "execution_count": 77,
   "metadata": {},
   "outputs": [],
   "source": [
    "reverse = except0[::-1]"
   ]
  },
  {
   "cell_type": "code",
   "execution_count": 78,
   "metadata": {},
   "outputs": [
    {
     "data": {
      "text/plain": [
       "['교', '학', '대', '려', '고']"
      ]
     },
     "execution_count": 78,
     "metadata": {},
     "output_type": "execute_result"
    }
   ],
   "source": [
    "reverse"
   ]
  },
  {
   "cell_type": "code",
   "execution_count": 80,
   "metadata": {},
   "outputs": [
    {
     "name": "stdout",
     "output_type": "stream",
     "text": [
      "교\n",
      "학\n",
      "대\n",
      "려\n",
      "고\n"
     ]
    }
   ],
   "source": [
    "for a in reverse:\n",
    "    print(a)   "
   ]
  },
  {
   "cell_type": "code",
   "execution_count": 10,
   "metadata": {},
   "outputs": [],
   "source": [
    "a=[]"
   ]
  },
  {
   "cell_type": "code",
   "execution_count": 12,
   "metadata": {},
   "outputs": [
    {
     "data": {
      "text/plain": [
       "0"
      ]
     },
     "execution_count": 12,
     "metadata": {},
     "output_type": "execute_result"
    }
   ],
   "source": [
    "len(a)"
   ]
  },
  {
   "cell_type": "code",
   "execution_count": 17,
   "metadata": {},
   "outputs": [
    {
     "name": "stdout",
     "output_type": "stream",
     "text": [
      "3\n",
      "4\n",
      "6\n",
      "\n",
      "8\n",
      "0\n",
      "['8', '', '6', '4', '3']\n"
     ]
    }
   ],
   "source": [
    "tot = []\n",
    "inp105 = 1\n",
    "\n",
    "while inp105 != '0':\n",
    "    inp105 = input()\n",
    "    tot.insert(len(tot),inp105)\n",
    "\n",
    "tot = tot[:-1]\n",
    "print(tot[::-1])"
   ]
  },
  {
   "cell_type": "markdown",
   "metadata": {},
   "source": [
    "답"
   ]
  },
  {
   "cell_type": "code",
   "execution_count": 8,
   "metadata": {},
   "outputs": [
    {
     "name": "stdout",
     "output_type": "stream",
     "text": [
      "3\n",
      "4\n",
      "5\n",
      "0\n",
      "5\n",
      "4\n",
      "3\n"
     ]
    }
   ],
   "source": [
    "num_list = []\n",
    "while True:\n",
    "    try: \n",
    "        num = int(input())\n",
    "    except:\n",
    "        \n",
    "    else:\n",
    "        if num is 0:\n",
    "            break\n",
    "        else:\n",
    "            num_list.append(num)\n",
    "\n",
    "# 방법1\n",
    "for i in list(range(len(num_list)-1,-1,-1)):\n",
    "    print(num_list[i])\n",
    "       \n",
    "# 방법2\n",
    "for i in range(len(num_list)\n",
    "num_list.reverse()"
   ]
  },
  {
   "cell_type": "markdown",
   "metadata": {},
   "source": [
    "# 107. Avoiding Duplicates"
   ]
  },
  {
   "cell_type": "code",
   "execution_count": 3,
   "metadata": {},
   "outputs": [
    {
     "name": "stdout",
     "output_type": "stream",
     "text": [
      "3\n",
      "5\n",
      "5\n",
      "4\n",
      "4\n",
      "\n",
      "5\n",
      "\n",
      "4\n",
      "3\n"
     ]
    }
   ],
   "source": [
    "tot107 = []\n",
    "inp107 = 'a'\n",
    "\n",
    "while inp107 != \"\":\n",
    "    inp107 = input()\n",
    "    tot107.insert(len(tot107),inp107)\n",
    "#    if inp107 not in tot107:\n",
    "#        tot107.insert(len(tot107),inp107)\n",
    "    if inp107 == \"\":\n",
    "        break\n",
    "\n",
    "p = list(set(tot107))  #문자는 입력순서로 되는데 숫자는 x\n",
    "for i in p:\n",
    "    print(i)\n",
    "#공백 포함됨..."
   ]
  },
  {
   "cell_type": "markdown",
   "metadata": {},
   "source": [
    "답"
   ]
  },
  {
   "cell_type": "code",
   "execution_count": null,
   "metadata": {},
   "outputs": [],
   "source": [
    "while True: \n",
    "    word = input()\n",
    "    \n",
    "    if word = \"\":\n",
    "        break\n",
    "    \n",
    "#    try:\n",
    "#        word_list.index(word)\n",
    "#    except:\n",
    "#        word_list.append(word)\n",
    "# for구문으로 출력        "
   ]
  },
  {
   "cell_type": "markdown",
   "metadata": {},
   "source": [
    "# 108. Negatives, Zeros and Positives"
   ]
  },
  {
   "cell_type": "code",
   "execution_count": 2,
   "metadata": {},
   "outputs": [
    {
     "name": "stdout",
     "output_type": "stream",
     "text": [
      "-1\n",
      "2\n",
      "-3\n",
      "4\n",
      "-5\n",
      "\n",
      "[-1, -3, -5, 0, 2, 4]\n"
     ]
    }
   ],
   "source": [
    "tot108_n = []\n",
    "tot108_p = []\n",
    "tot108_0 = []\n",
    "inp108 = 1\n",
    "\n",
    "while inp108 != '':\n",
    "    try:\n",
    "        inp108 = int(input())\n",
    "    except:\n",
    "#        print('정수를 입력하세요')\n",
    "        break\n",
    "    else:\n",
    "        if inp108<0:\n",
    "            tot108_n.append(inp108)\n",
    "        elif inp108 ==0:\n",
    "            tot108_0.append(inp108)\n",
    "        elif inp108>0:\n",
    "            tot108_p.append(inp108)\n",
    "    if inp108 == '':\n",
    "        break\n",
    "            \n",
    "result = tot108_n + tot108_0 + tot108_p\n",
    "print(result)\n",
    "\n",
    "#blank line 입력시 끝나지 않음...."
   ]
  },
  {
   "cell_type": "markdown",
   "metadata": {},
   "source": [
    "답"
   ]
  },
  {
   "cell_type": "code",
   "execution_count": 9,
   "metadata": {},
   "outputs": [
    {
     "name": "stdout",
     "output_type": "stream",
     "text": [
      "1\n",
      "-1\n"
     ]
    },
    {
     "ename": "NameError",
     "evalue": "name 'tot108_n' is not defined",
     "output_type": "error",
     "traceback": [
      "\u001b[1;31m---------------------------------------------------------------------------\u001b[0m",
      "\u001b[1;31mNameError\u001b[0m                                 Traceback (most recent call last)",
      "\u001b[1;32m<ipython-input-9-f2c4c43aa6a7>\u001b[0m in \u001b[0;36m<module>\u001b[1;34m()\u001b[0m\n\u001b[0;32m     11\u001b[0m     \u001b[1;32melse\u001b[0m\u001b[1;33m:\u001b[0m\u001b[1;33m\u001b[0m\u001b[0m\n\u001b[0;32m     12\u001b[0m         \u001b[1;32mif\u001b[0m \u001b[0minp108\u001b[0m\u001b[1;33m<\u001b[0m\u001b[1;36m0\u001b[0m\u001b[1;33m:\u001b[0m\u001b[1;33m\u001b[0m\u001b[0m\n\u001b[1;32m---> 13\u001b[1;33m             \u001b[0mtot108_n\u001b[0m\u001b[1;33m.\u001b[0m\u001b[0mappend\u001b[0m\u001b[1;33m(\u001b[0m\u001b[0minp108\u001b[0m\u001b[1;33m)\u001b[0m\u001b[1;33m\u001b[0m\u001b[0m\n\u001b[0m\u001b[0;32m     14\u001b[0m         \u001b[1;32melif\u001b[0m \u001b[0minp108\u001b[0m \u001b[1;33m==\u001b[0m\u001b[1;36m0\u001b[0m\u001b[1;33m:\u001b[0m\u001b[1;33m\u001b[0m\u001b[0m\n\u001b[0;32m     15\u001b[0m             \u001b[0mtot108_0\u001b[0m\u001b[1;33m.\u001b[0m\u001b[0mappend\u001b[0m\u001b[1;33m(\u001b[0m\u001b[0minp108\u001b[0m\u001b[1;33m)\u001b[0m\u001b[1;33m\u001b[0m\u001b[0m\n",
      "\u001b[1;31mNameError\u001b[0m: name 'tot108_n' is not defined"
     ]
    }
   ],
   "source": [
    "tot108_n = []\n",
    "tot108_p = []\n",
    "tot108_0 = []\n",
    "inp108 = 1\n",
    "\n",
    "while True:\n",
    "    inp108 = input()\n",
    "    \n",
    "    if inp108 == \"\":\n",
    "        break\n",
    "    \n",
    "    try:\n",
    "        inp108 = int(input())\n",
    "    except:\n",
    "        print('정수를 입력하세요')\n",
    "    else:\n",
    "        if inp108<0:\n",
    "            tot108_n.append(inp108)\n",
    "        elif inp108 ==0:\n",
    "            tot108_0.append(inp108)\n",
    "        elif inp108>0:\n",
    "            tot108_p.append(inp108)\n",
    "            \n",
    "result = tot108_n + tot108_0 + tot108_p\n",
    "print(result)"
   ]
  },
  {
   "cell_type": "markdown",
   "metadata": {},
   "source": [
    "# 110. Perfect Numbers"
   ]
  },
  {
   "cell_type": "code",
   "execution_count": null,
   "metadata": {},
   "outputs": [],
   "source": [
    "dividor = []\n",
    "\n",
    "    for i in [1:num]:\n",
    "        if num%i==0:\n",
    "            dividor.append(i)\n",
    "    \n",
    "    \n",
    "    return True"
   ]
  },
  {
   "cell_type": "markdown",
   "metadata": {},
   "source": [
    "답"
   ]
  },
  {
   "cell_type": "code",
   "execution_count": 10,
   "metadata": {},
   "outputs": [],
   "source": [
    "def common(num):\n",
    "    common_list = []\n",
    "    \n",
    "    for i in range(1, int(num/2)+1):\n",
    "        if num%i is 0:\n",
    "            common_list.append(i)\n",
    "\n",
    "    return common_list    "
   ]
  },
  {
   "cell_type": "code",
   "execution_count": 11,
   "metadata": {},
   "outputs": [
    {
     "name": "stdout",
     "output_type": "stream",
     "text": [
      "6\n",
      "28\n",
      "496\n",
      "8128\n"
     ]
    }
   ],
   "source": [
    "for i in range(1,10001):\n",
    "    common_i = common(i)\n",
    "    \n",
    "    sum_common = 0\n",
    "    \n",
    "    for j in common_i:\n",
    "        sum_common += j\n",
    "        \n",
    "    if sum_common == i:\n",
    "        print(i)"
   ]
  },
  {
   "cell_type": "code",
   "execution_count": 12,
   "metadata": {},
   "outputs": [],
   "source": [
    "import random"
   ]
  },
  {
   "cell_type": "code",
   "execution_count": null,
   "metadata": {},
   "outputs": [],
   "source": [
    "rand = random.Random()"
   ]
  },
  {
   "cell_type": "code",
   "execution_count": null,
   "metadata": {},
   "outputs": [],
   "source": [
    "rand.randint(1,49)\n",
    "lotto_list = []\n",
    "\n",
    "ball_num = 0\n",
    "\n",
    "while ball_num <6:\n",
    "    new_ball = rand.randint(1,49)\n",
    "    \n",
    "    try:\n",
    "        lotto_list.index(new_ball)\n",
    "    except:\n",
    "        lotto_list.append(new_ball)\n",
    "        ball_num +=1\n",
    "        \n",
    "lotto_list.sort()\n",
    "print(lotto_list)\n"
   ]
  }
 ],
 "metadata": {
  "kernelspec": {
   "display_name": "Python 3",
   "language": "python",
   "name": "python3"
  },
  "language_info": {
   "codemirror_mode": {
    "name": "ipython",
    "version": 3
   },
   "file_extension": ".py",
   "mimetype": "text/x-python",
   "name": "python",
   "nbconvert_exporter": "python",
   "pygments_lexer": "ipython3",
   "version": "3.6.5"
  }
 },
 "nbformat": 4,
 "nbformat_minor": 2
}
