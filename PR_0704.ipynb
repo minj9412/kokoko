{
 "cells": [
  {
   "cell_type": "markdown",
   "metadata": {},
   "source": [
    "# 61. Average"
   ]
  },
  {
   "cell_type": "code",
   "execution_count": null,
   "metadata": {},
   "outputs": [],
   "source": [
    "num_list = []\n",
    "while True:\n",
    "    num = int(input())\n",
    "    num_list.append(num)\n",
    "    \n",
    "    if num == 0:\n",
    "        break\n",
    "        \n",
    "print(sum(num_list)/(len(num_list)-1))"
   ]
  },
  {
   "cell_type": "markdown",
   "metadata": {},
   "source": [
    "# 63. Temperature Conversion Table"
   ]
  },
  {
   "cell_type": "code",
   "execution_count": null,
   "metadata": {},
   "outputs": [],
   "source": [
    "from pandas import Series, DataFrame\n",
    "\n",
    "Cel = list(range(0,101,10))\n",
    "Faren = []\n",
    "\n",
    "for c in Cel:\n",
    "    f = c*1.8 +32\n",
    "    Faren.append(f)\n",
    "    \n",
    "table_data = {'Cel':Cel,\n",
    "              'Faren': Faren}\n",
    "    \n",
    "table = DataFrame(table_data)\n",
    "print(table)"
   ]
  },
  {
   "cell_type": "markdown",
   "metadata": {},
   "source": [
    "# 66. Compute a Grade Point Average"
   ]
  },
  {
   "cell_type": "code",
   "execution_count": null,
   "metadata": {},
   "outputs": [],
   "source": [
    "point_list = []\n",
    "\n",
    "while True:\n",
    "    grade = input()\n",
    "    \n",
    "    if grade == 'A+':\n",
    "        point_list.append(4.0)        \n",
    "    elif grade == 'A':\n",
    "        point_list.append(4.0)\n",
    "    elif grade == 'A-':\n",
    "        point_list.append(3.7)\n",
    "    elif grade == 'B+':\n",
    "        point_list.append(3.3)\n",
    "    elif grade == 'B':\n",
    "        point_list.append(3.0)\n",
    "    elif grade == 'B-':\n",
    "        point_list.append(2.7)\n",
    "    elif grade == 'C+':\n",
    "        point_list.append(2.3)\n",
    "    elif grade == 'C':\n",
    "        point_list.append(2.0)\n",
    "    elif grade == 'C-':\n",
    "        point_list.append(1.7)\n",
    "    elif grade == 'D+':\n",
    "        point_list.append(1.3)\n",
    "    elif grade == 'D':\n",
    "        point_list.append(1.0)\n",
    "    elif grade == 'F':\n",
    "        point_list.append(0)  \n",
    "    \n",
    "    if grade == '':\n",
    "        break\n",
    "\n",
    "print(sum(point_list)/len(point_list))"
   ]
  },
  {
   "cell_type": "markdown",
   "metadata": {},
   "source": [
    "# 67. Admission Price"
   ]
  },
  {
   "cell_type": "code",
   "execution_count": null,
   "metadata": {},
   "outputs": [],
   "source": [
    "cost_list = []\n",
    "\n",
    "while True:\n",
    "    age = input()\n",
    "    \n",
    "    if age == '':\n",
    "        break\n",
    "        \n",
    "    else:\n",
    "        age = float(age)\n",
    "    \n",
    "        if age in list(range(0,3)):\n",
    "            cost_list.append(0.00)\n",
    "        elif age in list(range(3,13)):\n",
    "            cost_list.append(14.00)\n",
    "        elif age >= 65:\n",
    "            cost_list.append(18.00)\n",
    "        else:\n",
    "            cost_list.append(23.00) \n",
    "    \n",
    "          \n",
    "print('총 금액은 아래와 같습니다.')\n",
    "print(\"%.2f\"%sum(cost_list))\n"
   ]
  },
  {
   "cell_type": "markdown",
   "metadata": {},
   "source": [
    "# 72. Is a String a Palindrome?"
   ]
  },
  {
   "cell_type": "code",
   "execution_count": null,
   "metadata": {},
   "outputs": [],
   "source": [
    "word = list(input())\n",
    "\n",
    "word_re = word\n",
    "word_re.reverse()\n",
    "\n",
    "if word == word_re:\n",
    "    print('This is a palindrome word.')\n",
    "\n",
    "else:\n",
    "    print('This is not a palindrome word.')"
   ]
  },
  {
   "cell_type": "markdown",
   "metadata": {},
   "source": [
    "# 74. Multiplication Table"
   ]
  },
  {
   "cell_type": "code",
   "execution_count": null,
   "metadata": {},
   "outputs": [],
   "source": []
  },
  {
   "cell_type": "markdown",
   "metadata": {},
   "source": [
    "# 75. Greatest Common Divisor"
   ]
  },
  {
   "cell_type": "code",
   "execution_count": null,
   "metadata": {},
   "outputs": [],
   "source": [
    "n = int(input())\n",
    "m = int(input())\n",
    "d = min(n,m)\n",
    "\n",
    "if d==n:\n",
    "    for i in list(range(d,0,-1)):\n",
    "        if m%i==0 and n%i==0:\n",
    "            print(i)\n",
    "            break\n",
    "elif d==m:\n",
    "    for i in list(range(d,0,-1)):\n",
    "        if m%i==0 and n%i==0:\n",
    "            print(i)\n",
    "            break"
   ]
  },
  {
   "cell_type": "markdown",
   "metadata": {},
   "source": [
    "# 77. Binary to Decimal"
   ]
  },
  {
   "cell_type": "code",
   "execution_count": 5,
   "metadata": {},
   "outputs": [
    {
     "name": "stdout",
     "output_type": "stream",
     "text": [
      "110\n",
      "위의 수를 10진수로 표현하면\n",
      "6\n"
     ]
    }
   ],
   "source": [
    "#1\n",
    "num_b = input()\n",
    "num_d = int(num_b,2)\n",
    "\n",
    "print('위의 수를 10진수로 표현하면 :')\n",
    "print(num_d)"
   ]
  },
  {
   "cell_type": "code",
   "execution_count": 40,
   "metadata": {},
   "outputs": [
    {
     "name": "stdout",
     "output_type": "stream",
     "text": [
      "2진수를 입력하세요\n",
      "110\n",
      "위의 수를 10진수로 표현하면 :\n"
     ]
    },
    {
     "data": {
      "text/plain": [
       "6"
      ]
     },
     "execution_count": 40,
     "metadata": {},
     "output_type": "execute_result"
    }
   ],
   "source": [
    "#2\n",
    "print('2진수를 입력하세요')\n",
    "num_b = list(input())\n",
    "num_b.reverse()\n",
    "\n",
    "digit_list = []\n",
    "\n",
    "for i in range(0,len(num_b)):\n",
    "    digit = int(num_b[i])*(2**i)\n",
    "    digit_list.append(int(digit))\n",
    "\n",
    "print('위의 수를 10진수로 표현하면 :')\n",
    "sum(digit_list)"
   ]
  },
  {
   "cell_type": "markdown",
   "metadata": {},
   "source": [
    "# 78. Decimal to Binary"
   ]
  },
  {
   "cell_type": "code",
   "execution_count": 56,
   "metadata": {},
   "outputs": [
    {
     "name": "stdout",
     "output_type": "stream",
     "text": [
      "6\n",
      "['1', '1', '0']\n"
     ]
    }
   ],
   "source": [
    "result = []\n",
    "q = int(input())\n",
    "\n",
    "while True:\n",
    "    r = str(r)\n",
    "    result.insert(0,r)\n",
    "    q = q//2\n",
    "    \n",
    "    if q ==0:\n",
    "        break\n",
    "\n",
    "print(result) #리스트를 다시 한 단어로 어떻게 바꿀지 모르겠습니다...ㅜㅠ"
   ]
  }
 ],
 "metadata": {
  "kernelspec": {
   "display_name": "Python 3",
   "language": "python",
   "name": "python3"
  }
 },
 "nbformat": 4,
 "nbformat_minor": 2
}
