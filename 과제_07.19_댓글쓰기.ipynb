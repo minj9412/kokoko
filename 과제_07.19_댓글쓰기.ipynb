{
 "cells": [
  {
   "cell_type": "markdown",
   "metadata": {},
   "source": [
    "# 과제 07.19 댓글쓰기"
   ]
  },
  {
   "cell_type": "code",
   "execution_count": 1,
   "metadata": {},
   "outputs": [],
   "source": [
    "from selenium import webdriver"
   ]
  },
  {
   "cell_type": "code",
   "execution_count": 2,
   "metadata": {},
   "outputs": [],
   "source": [
    "driver = webdriver.Chrome()"
   ]
  },
  {
   "cell_type": "code",
   "execution_count": 3,
   "metadata": {},
   "outputs": [],
   "source": [
    "driver.get(\"http://www.naver.com\")"
   ]
  },
  {
   "cell_type": "code",
   "execution_count": 8,
   "metadata": {},
   "outputs": [],
   "source": [
    "driver.find_element_by_id('id').send_keys(\"als9412\")"
   ]
  },
  {
   "cell_type": "code",
   "execution_count": 7,
   "metadata": {},
   "outputs": [],
   "source": [
    "driver.find_element_by_id('pw').send_keys(\"komdyoi2148\")"
   ]
  },
  {
   "cell_type": "code",
   "execution_count": 9,
   "metadata": {},
   "outputs": [],
   "source": [
    "driver.find_element_by_css_selector(\".btn_login > input\").click()"
   ]
  },
  {
   "cell_type": "code",
   "execution_count": 10,
   "metadata": {},
   "outputs": [],
   "source": [
    "# 뉴스 탭 클릭\n",
    "driver.find_element_by_css_selector(\"a.an_a.mn_news\").click()"
   ]
  },
  {
   "cell_type": "code",
   "execution_count": 18,
   "metadata": {},
   "outputs": [],
   "source": [
    "driver.find_element_by_css_selector(\"#text_today_main_news_801001 > li:nth-child(2) > div > a > strong\").click()"
   ]
  },
  {
   "cell_type": "code",
   "execution_count": 19,
   "metadata": {},
   "outputs": [],
   "source": [
    "driver.find_element_by_css_selector(\"div.simplecmt_link_text\").click()"
   ]
  },
  {
   "cell_type": "code",
   "execution_count": 20,
   "metadata": {},
   "outputs": [],
   "source": [
    "driver.find_element_by_id('cbox_module__write_textarea').send_keys(\"my water\")"
   ]
  },
  {
   "cell_type": "markdown",
   "metadata": {},
   "source": [
    "# 함수"
   ]
  },
  {
   "cell_type": "code",
   "execution_count": 26,
   "metadata": {},
   "outputs": [],
   "source": [
    "def writecom(comment):\n",
    "    driver = webdriver.Chrome()\n",
    "    \n",
    "    try: \n",
    "        #로그인\n",
    "        driver.get(\"http://www.naver.com\")\n",
    "        driver.find_element_by_id('id').send_keys(\"als9412\")\n",
    "        driver.find_element_by_id('pw').send_keys(\"qlalf23!\")\n",
    "        driver.find_element_by_css_selector(\".btn_login > input\").click()\n",
    "    \n",
    "    except:\n",
    "        print(\"failed to login\")\n",
    "        \n",
    "    \n",
    "    else:        \n",
    "        # 뉴스 탭 클릭\n",
    "        driver.find_element_by_css_selector(\"a.an_a.mn_news\").click()\n",
    "\n",
    "        # 기사 클릭\n",
    "        driver.find_element_by_css_selector(\"#text_today_main_news_801001 > li:nth-child(2) > div > a > strong\").click()\n",
    "\n",
    "        # 댓글 클릭\n",
    "        driver.find_element_by_css_selector(\"div.simplecmt_link_text\").click()\n",
    "\n",
    "        #댓글 입력\n",
    "        driver.find_element_by_id('cbox_module__write_textarea').send_keys(comment)"
   ]
  },
  {
   "cell_type": "code",
   "execution_count": null,
   "metadata": {},
   "outputs": [],
   "source": [
    "writecom(\"no jam!\")"
   ]
  }
 ],
 "metadata": {
  "kernelspec": {
   "display_name": "Python 3",
   "language": "python",
   "name": "python3"
  },
  "language_info": {
   "codemirror_mode": {
    "name": "ipython",
    "version": 3
   },
   "file_extension": ".py",
   "mimetype": "text/x-python",
   "name": "python",
   "nbconvert_exporter": "python",
   "pygments_lexer": "ipython3",
   "version": "3.6.5"
  }
 },
 "nbformat": 4,
 "nbformat_minor": 2
}
