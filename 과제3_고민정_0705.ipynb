{
 "cells": [
  {
   "cell_type": "markdown",
   "metadata": {},
   "source": [
    "# 82. Taxi Fare"
   ]
  },
  {
   "cell_type": "code",
   "execution_count": 1,
   "metadata": {},
   "outputs": [
    {
     "data": {
      "text/plain": [
       "5.5"
      ]
     },
     "execution_count": 1,
     "metadata": {},
     "output_type": "execute_result"
    }
   ],
   "source": [
    "def fare(dis):\n",
    "    return 0.25*dis + 4\n",
    "\n",
    "fare(6)"
   ]
  },
  {
   "cell_type": "markdown",
   "metadata": {},
   "source": [
    "# 84. Median of Three Values"
   ]
  },
  {
   "cell_type": "code",
   "execution_count": 20,
   "metadata": {},
   "outputs": [
    {
     "name": "stdout",
     "output_type": "stream",
     "text": [
      "1\n",
      "9\n",
      "4\n"
     ]
    },
    {
     "data": {
      "text/plain": [
       "'4'"
      ]
     },
     "execution_count": 20,
     "metadata": {},
     "output_type": "execute_result"
    }
   ],
   "source": [
    "input_list = []\n",
    "i = 1\n",
    "\n",
    "while i<4:\n",
    "    inp = input()\n",
    "    input_list.append(inp)\n",
    "    i += 1\n",
    "    \n",
    "#모듈 이용 방법\n",
    "#statistics.median(input_list)\n",
    "\n",
    "#함수 생성 방법  \n",
    "def fun_median(x):\n",
    "    return sorted(x)[1]\n",
    "\n",
    "fun_median(input_list)"
   ]
  },
  {
   "cell_type": "markdown",
   "metadata": {},
   "source": [
    "# 85. Convert an integer to its ordinal Number"
   ]
  },
  {
   "cell_type": "code",
   "execution_count": 6,
   "metadata": {},
   "outputs": [
    {
     "name": "stdout",
     "output_type": "stream",
     "text": [
      "00\n",
      "\n"
     ]
    }
   ],
   "source": [
    "inp85 = int(input())\n",
    "ordinal_list = ['first','second','third', 'fourth', 'fifth', 'sixth', 'seventh', 'eighth', 'ninth', 'tenth', 'eleventh', 'twelfth']\n",
    "\n",
    "if 0<inp85<13:\n",
    "    print(ordinal_list[inp85-1])\n",
    "else: \n",
    "    print('')"
   ]
  },
  {
   "cell_type": "markdown",
   "metadata": {},
   "source": [
    "# 88. Is it a Valid Triangle?"
   ]
  },
  {
   "cell_type": "code",
   "execution_count": 27,
   "metadata": {},
   "outputs": [
    {
     "name": "stdout",
     "output_type": "stream",
     "text": [
      "3\n",
      "4\n",
      "4\n"
     ]
    },
    {
     "data": {
      "text/plain": [
       "True"
      ]
     },
     "execution_count": 27,
     "metadata": {},
     "output_type": "execute_result"
    }
   ],
   "source": [
    "n1 = int(input())\n",
    "n2 = int(input())\n",
    "n3 = int(input())\n",
    "\n",
    "tri_list = [n1,n2,n3]\n",
    "\n",
    "def tri_fun(x):   \n",
    "    return max(x) < sum(x)-max(x)\n",
    " \n",
    "tri_fun(tri_list)"
   ]
  },
  {
   "cell_type": "markdown",
   "metadata": {},
   "source": [
    "# 92. Is a Number Prime?"
   ]
  },
  {
   "cell_type": "code",
   "execution_count": null,
   "metadata": {},
   "outputs": [],
   "source": [
    "num_p = int(input())\n",
    "tf_list = []\n",
    "\n",
    "def prime_fun(x):\n",
    "    for i in range(2,x):\n",
    "        tf = x%i!=0\n",
    "        tf_list.append(tf)\n",
    "    return all(tf_list)\n",
    "    \n",
    "prime_fun(num_p)"
   ]
  },
  {
   "cell_type": "markdown",
   "metadata": {},
   "source": [
    "# 86. The Twelve Days of Christmas"
   ]
  },
  {
   "cell_type": "code",
   "execution_count": 23,
   "metadata": {},
   "outputs": [
    {
     "name": "stdout",
     "output_type": "stream",
     "text": [
      "3\n",
      "On the  first  day of Christmas \n",
      " my true love sent to me:\n",
      "On the  second  day of Christmas \n",
      " my true love sent to me:\n",
      "a Partridge in a Pear Tree , \n",
      "\n",
      "On the  third  day of Christmas \n",
      " my true love sent to me:\n",
      "a Partridge in a Pear Tree , \n",
      "\n",
      "Two Turtle Doves , \n",
      "\n"
     ]
    }
   ],
   "source": [
    "ver = int(input())\n",
    "day_list = ['first','second','third', 'fourth', 'fifth', 'sixth', \n",
    "            'seventh', 'eighth', 'ninth', 'tenth', 'eleventh', 'twelfth']\n",
    "    \n",
    "gift_list = ['a Partridge in a Pear Tree', 'Two Turtle Doves','Three French Hens', 'four Calling Birds', \n",
    "             'five Gold Rings', 'six Geese a-Laying', 'seven Swans a-Swimming', 'eight Maids a-Milking', \n",
    "             'nine Ladies Dancing', 'ten Lords a-Leaping', 'eleven Pipers Piping', 'twelve Drummers Drumming']\n",
    "gift_accu = []\n",
    "\n",
    "def song(x):\n",
    "    for i in range(0,x):\n",
    "        gift_accu.append(gift_list[i])\n",
    "        \n",
    "        print('On the ',day_list[i],' day of Christmas','\\n', 'my true love sent to me:')\n",
    "        \n",
    "        #리스트를 풀어내서 출력하는 법을 모르겠어요..ㅠㅠ\n",
    "        for j in range(0,i):\n",
    "            print(gift_accu[j], ',','\\n')\n",
    "\n",
    "song(ver)"
   ]
  },
  {
   "cell_type": "markdown",
   "metadata": {},
   "source": [
    "# 89. Capitalize it"
   ]
  },
  {
   "cell_type": "code",
   "execution_count": 24,
   "metadata": {},
   "outputs": [
    {
     "ename": "SyntaxError",
     "evalue": "invalid syntax (<ipython-input-24-5ec660ab97ee>, line 1)",
     "output_type": "error",
     "traceback": [
      "\u001b[1;36m  File \u001b[1;32m\"<ipython-input-24-5ec660ab97ee>\"\u001b[1;36m, line \u001b[1;32m1\u001b[0m\n\u001b[1;33m    i 항상 대문자\u001b[0m\n\u001b[1;37m       ^\u001b[0m\n\u001b[1;31mSyntaxError\u001b[0m\u001b[1;31m:\u001b[0m invalid syntax\n"
     ]
    }
   ],
   "source": [
    "i 항상 대문자\n",
    "sentence = input()\n",
    "sentence = sentence.split(' ')\n",
    "\n",
    "def up(x):aa\n",
    "    for i in range(0,len(x)):\n",
    "        x.capitalize()\n",
    "        \n",
    "        if '?' in sentence[i]:\n",
    "            sentence[i] = sentence[i].split('?')\n",
    "#포기......    "
   ]
  }
 ],
 "metadata": {
  "kernelspec": {
   "display_name": "Python 3",
   "language": "python",
   "name": "python3"
  },
  "language_info": {
   "codemirror_mode": {
    "name": "ipython",
    "version": 3
   },
   "file_extension": ".py",
   "mimetype": "text/x-python",
   "name": "python",
   "nbconvert_exporter": "python",
   "pygments_lexer": "ipython3",
   "version": "3.6.5"
  }
 },
 "nbformat": 4,
 "nbformat_minor": 2
}
